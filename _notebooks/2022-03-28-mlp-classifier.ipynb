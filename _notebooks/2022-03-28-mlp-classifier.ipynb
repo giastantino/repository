{
  "nbformat": 4,
  "nbformat_minor": 0,
  "metadata": {
    "colab": {
      "name": "Untitled2.ipynb",
      "provenance": [],
      "collapsed_sections": []
    },
    "kernelspec": {
      "name": "python3",
      "display_name": "Python 3"
    },
    "language_info": {
      "name": "python"
    },
    "widgets": {
      "application/vnd.jupyter.widget-state+json": {
        "ad7158b7aaa44ca394bf95858ddfe76c": {
          "model_module": "@jupyter-widgets/controls",
          "model_name": "HBoxModel",
          "model_module_version": "1.5.0",
          "state": {
            "_dom_classes": [],
            "_model_module": "@jupyter-widgets/controls",
            "_model_module_version": "1.5.0",
            "_model_name": "HBoxModel",
            "_view_count": null,
            "_view_module": "@jupyter-widgets/controls",
            "_view_module_version": "1.5.0",
            "_view_name": "HBoxView",
            "box_style": "",
            "children": [
              "IPY_MODEL_99b6c03f8d7e410fbee596a385837d09",
              "IPY_MODEL_5ef1cbc0f8824610ab7b3dc25d2327c3",
              "IPY_MODEL_015341b3b0cc4904b2fc23046cb96fd0"
            ],
            "layout": "IPY_MODEL_c343cffb5082407eb04f6340994e92df"
          }
        },
        "99b6c03f8d7e410fbee596a385837d09": {
          "model_module": "@jupyter-widgets/controls",
          "model_name": "HTMLModel",
          "model_module_version": "1.5.0",
          "state": {
            "_dom_classes": [],
            "_model_module": "@jupyter-widgets/controls",
            "_model_module_version": "1.5.0",
            "_model_name": "HTMLModel",
            "_view_count": null,
            "_view_module": "@jupyter-widgets/controls",
            "_view_module_version": "1.5.0",
            "_view_name": "HTMLView",
            "description": "",
            "description_tooltip": null,
            "layout": "IPY_MODEL_f4bcdddeec1146b3b63d90b0ddcca905",
            "placeholder": "​",
            "style": "IPY_MODEL_3ddb2d96f5c440a6a484071d930b03ee",
            "value": " 89%"
          }
        },
        "5ef1cbc0f8824610ab7b3dc25d2327c3": {
          "model_module": "@jupyter-widgets/controls",
          "model_name": "FloatProgressModel",
          "model_module_version": "1.5.0",
          "state": {
            "_dom_classes": [],
            "_model_module": "@jupyter-widgets/controls",
            "_model_module_version": "1.5.0",
            "_model_name": "FloatProgressModel",
            "_view_count": null,
            "_view_module": "@jupyter-widgets/controls",
            "_view_module_version": "1.5.0",
            "_view_name": "ProgressView",
            "bar_style": "danger",
            "description": "",
            "description_tooltip": null,
            "layout": "IPY_MODEL_83c955741f9a45e8bdb96195c79a8018",
            "max": 150,
            "min": 0,
            "orientation": "horizontal",
            "style": "IPY_MODEL_47ee5e18d55a456a9e609f30be4429e7",
            "value": 133
          }
        },
        "015341b3b0cc4904b2fc23046cb96fd0": {
          "model_module": "@jupyter-widgets/controls",
          "model_name": "HTMLModel",
          "model_module_version": "1.5.0",
          "state": {
            "_dom_classes": [],
            "_model_module": "@jupyter-widgets/controls",
            "_model_module_version": "1.5.0",
            "_model_name": "HTMLModel",
            "_view_count": null,
            "_view_module": "@jupyter-widgets/controls",
            "_view_module_version": "1.5.0",
            "_view_name": "HTMLView",
            "description": "",
            "description_tooltip": null,
            "layout": "IPY_MODEL_5f12f29f09e748a7b0fae6c2bb7ece72",
            "placeholder": "​",
            "style": "IPY_MODEL_177088ee999a4d7786490cea78563858",
            "value": " 133/150 [01:19&lt;00:09,  1.77epoch/s, loss=0.0264, accuracy=0.99, val_loss=0.0272, val_accuracy=0.985]"
          }
        },
        "c343cffb5082407eb04f6340994e92df": {
          "model_module": "@jupyter-widgets/base",
          "model_name": "LayoutModel",
          "model_module_version": "1.2.0",
          "state": {
            "_model_module": "@jupyter-widgets/base",
            "_model_module_version": "1.2.0",
            "_model_name": "LayoutModel",
            "_view_count": null,
            "_view_module": "@jupyter-widgets/base",
            "_view_module_version": "1.2.0",
            "_view_name": "LayoutView",
            "align_content": null,
            "align_items": null,
            "align_self": null,
            "border": null,
            "bottom": null,
            "display": null,
            "flex": null,
            "flex_flow": null,
            "grid_area": null,
            "grid_auto_columns": null,
            "grid_auto_flow": null,
            "grid_auto_rows": null,
            "grid_column": null,
            "grid_gap": null,
            "grid_row": null,
            "grid_template_areas": null,
            "grid_template_columns": null,
            "grid_template_rows": null,
            "height": null,
            "justify_content": null,
            "justify_items": null,
            "left": null,
            "margin": null,
            "max_height": null,
            "max_width": null,
            "min_height": null,
            "min_width": null,
            "object_fit": null,
            "object_position": null,
            "order": null,
            "overflow": null,
            "overflow_x": null,
            "overflow_y": null,
            "padding": null,
            "right": null,
            "top": null,
            "visibility": null,
            "width": null
          }
        },
        "f4bcdddeec1146b3b63d90b0ddcca905": {
          "model_module": "@jupyter-widgets/base",
          "model_name": "LayoutModel",
          "model_module_version": "1.2.0",
          "state": {
            "_model_module": "@jupyter-widgets/base",
            "_model_module_version": "1.2.0",
            "_model_name": "LayoutModel",
            "_view_count": null,
            "_view_module": "@jupyter-widgets/base",
            "_view_module_version": "1.2.0",
            "_view_name": "LayoutView",
            "align_content": null,
            "align_items": null,
            "align_self": null,
            "border": null,
            "bottom": null,
            "display": null,
            "flex": null,
            "flex_flow": null,
            "grid_area": null,
            "grid_auto_columns": null,
            "grid_auto_flow": null,
            "grid_auto_rows": null,
            "grid_column": null,
            "grid_gap": null,
            "grid_row": null,
            "grid_template_areas": null,
            "grid_template_columns": null,
            "grid_template_rows": null,
            "height": null,
            "justify_content": null,
            "justify_items": null,
            "left": null,
            "margin": null,
            "max_height": null,
            "max_width": null,
            "min_height": null,
            "min_width": null,
            "object_fit": null,
            "object_position": null,
            "order": null,
            "overflow": null,
            "overflow_x": null,
            "overflow_y": null,
            "padding": null,
            "right": null,
            "top": null,
            "visibility": null,
            "width": null
          }
        },
        "3ddb2d96f5c440a6a484071d930b03ee": {
          "model_module": "@jupyter-widgets/controls",
          "model_name": "DescriptionStyleModel",
          "model_module_version": "1.5.0",
          "state": {
            "_model_module": "@jupyter-widgets/controls",
            "_model_module_version": "1.5.0",
            "_model_name": "DescriptionStyleModel",
            "_view_count": null,
            "_view_module": "@jupyter-widgets/base",
            "_view_module_version": "1.2.0",
            "_view_name": "StyleView",
            "description_width": ""
          }
        },
        "83c955741f9a45e8bdb96195c79a8018": {
          "model_module": "@jupyter-widgets/base",
          "model_name": "LayoutModel",
          "model_module_version": "1.2.0",
          "state": {
            "_model_module": "@jupyter-widgets/base",
            "_model_module_version": "1.2.0",
            "_model_name": "LayoutModel",
            "_view_count": null,
            "_view_module": "@jupyter-widgets/base",
            "_view_module_version": "1.2.0",
            "_view_name": "LayoutView",
            "align_content": null,
            "align_items": null,
            "align_self": null,
            "border": null,
            "bottom": null,
            "display": null,
            "flex": null,
            "flex_flow": null,
            "grid_area": null,
            "grid_auto_columns": null,
            "grid_auto_flow": null,
            "grid_auto_rows": null,
            "grid_column": null,
            "grid_gap": null,
            "grid_row": null,
            "grid_template_areas": null,
            "grid_template_columns": null,
            "grid_template_rows": null,
            "height": null,
            "justify_content": null,
            "justify_items": null,
            "left": null,
            "margin": null,
            "max_height": null,
            "max_width": null,
            "min_height": null,
            "min_width": null,
            "object_fit": null,
            "object_position": null,
            "order": null,
            "overflow": null,
            "overflow_x": null,
            "overflow_y": null,
            "padding": null,
            "right": null,
            "top": null,
            "visibility": null,
            "width": null
          }
        },
        "47ee5e18d55a456a9e609f30be4429e7": {
          "model_module": "@jupyter-widgets/controls",
          "model_name": "ProgressStyleModel",
          "model_module_version": "1.5.0",
          "state": {
            "_model_module": "@jupyter-widgets/controls",
            "_model_module_version": "1.5.0",
            "_model_name": "ProgressStyleModel",
            "_view_count": null,
            "_view_module": "@jupyter-widgets/base",
            "_view_module_version": "1.2.0",
            "_view_name": "StyleView",
            "bar_color": null,
            "description_width": ""
          }
        },
        "5f12f29f09e748a7b0fae6c2bb7ece72": {
          "model_module": "@jupyter-widgets/base",
          "model_name": "LayoutModel",
          "model_module_version": "1.2.0",
          "state": {
            "_model_module": "@jupyter-widgets/base",
            "_model_module_version": "1.2.0",
            "_model_name": "LayoutModel",
            "_view_count": null,
            "_view_module": "@jupyter-widgets/base",
            "_view_module_version": "1.2.0",
            "_view_name": "LayoutView",
            "align_content": null,
            "align_items": null,
            "align_self": null,
            "border": null,
            "bottom": null,
            "display": null,
            "flex": null,
            "flex_flow": null,
            "grid_area": null,
            "grid_auto_columns": null,
            "grid_auto_flow": null,
            "grid_auto_rows": null,
            "grid_column": null,
            "grid_gap": null,
            "grid_row": null,
            "grid_template_areas": null,
            "grid_template_columns": null,
            "grid_template_rows": null,
            "height": null,
            "justify_content": null,
            "justify_items": null,
            "left": null,
            "margin": null,
            "max_height": null,
            "max_width": null,
            "min_height": null,
            "min_width": null,
            "object_fit": null,
            "object_position": null,
            "order": null,
            "overflow": null,
            "overflow_x": null,
            "overflow_y": null,
            "padding": null,
            "right": null,
            "top": null,
            "visibility": null,
            "width": null
          }
        },
        "177088ee999a4d7786490cea78563858": {
          "model_module": "@jupyter-widgets/controls",
          "model_name": "DescriptionStyleModel",
          "model_module_version": "1.5.0",
          "state": {
            "_model_module": "@jupyter-widgets/controls",
            "_model_module_version": "1.5.0",
            "_model_name": "DescriptionStyleModel",
            "_view_count": null,
            "_view_module": "@jupyter-widgets/base",
            "_view_module_version": "1.2.0",
            "_view_name": "StyleView",
            "description_width": ""
          }
        },
        "b2b0b4681b854c45a6a4a2ccf48d7e4d": {
          "model_module": "@jupyter-widgets/controls",
          "model_name": "HBoxModel",
          "model_module_version": "1.5.0",
          "state": {
            "_dom_classes": [],
            "_model_module": "@jupyter-widgets/controls",
            "_model_module_version": "1.5.0",
            "_model_name": "HBoxModel",
            "_view_count": null,
            "_view_module": "@jupyter-widgets/controls",
            "_view_module_version": "1.5.0",
            "_view_name": "HBoxView",
            "box_style": "",
            "children": [
              "IPY_MODEL_22deb0570644478385f0aecbedd4db42",
              "IPY_MODEL_df70717fdccc4bbbbe222bad34372742",
              "IPY_MODEL_f8c43d2197424f8785e265834c11be6f"
            ],
            "layout": "IPY_MODEL_cfab8a1f07be401d85b65c5e542ff42c"
          }
        },
        "22deb0570644478385f0aecbedd4db42": {
          "model_module": "@jupyter-widgets/controls",
          "model_name": "HTMLModel",
          "model_module_version": "1.5.0",
          "state": {
            "_dom_classes": [],
            "_model_module": "@jupyter-widgets/controls",
            "_model_module_version": "1.5.0",
            "_model_name": "HTMLModel",
            "_view_count": null,
            "_view_module": "@jupyter-widgets/controls",
            "_view_module_version": "1.5.0",
            "_view_name": "HTMLView",
            "description": "",
            "description_tooltip": null,
            "layout": "IPY_MODEL_b83aa9deb1304dd8928343ed22a6cad6",
            "placeholder": "​",
            "style": "IPY_MODEL_4c6889c4135b4c9fafb2f355631c02f0",
            "value": " 93%"
          }
        },
        "df70717fdccc4bbbbe222bad34372742": {
          "model_module": "@jupyter-widgets/controls",
          "model_name": "FloatProgressModel",
          "model_module_version": "1.5.0",
          "state": {
            "_dom_classes": [],
            "_model_module": "@jupyter-widgets/controls",
            "_model_module_version": "1.5.0",
            "_model_name": "FloatProgressModel",
            "_view_count": null,
            "_view_module": "@jupyter-widgets/controls",
            "_view_module_version": "1.5.0",
            "_view_name": "ProgressView",
            "bar_style": "",
            "description": "",
            "description_tooltip": null,
            "layout": "IPY_MODEL_b8a434f9786e41afa636fd3cbae89188",
            "max": 206,
            "min": 0,
            "orientation": "horizontal",
            "style": "IPY_MODEL_cdd650ebc81c431f961bb91b85f0ca62",
            "value": 206
          }
        },
        "f8c43d2197424f8785e265834c11be6f": {
          "model_module": "@jupyter-widgets/controls",
          "model_name": "HTMLModel",
          "model_module_version": "1.5.0",
          "state": {
            "_dom_classes": [],
            "_model_module": "@jupyter-widgets/controls",
            "_model_module_version": "1.5.0",
            "_model_name": "HTMLModel",
            "_view_count": null,
            "_view_module": "@jupyter-widgets/controls",
            "_view_module_version": "1.5.0",
            "_view_name": "HTMLView",
            "description": "",
            "description_tooltip": null,
            "layout": "IPY_MODEL_be2ffa50a9ea46f8b643787bc60b247c",
            "placeholder": "​",
            "style": "IPY_MODEL_d0b8eb743f9e4753a4ea5ffc1c647767",
            "value": " 192/206 [00:00&lt;00:00, 462batch/s, loss=0.026, accuracy=0.991]"
          }
        },
        "cfab8a1f07be401d85b65c5e542ff42c": {
          "model_module": "@jupyter-widgets/base",
          "model_name": "LayoutModel",
          "model_module_version": "1.2.0",
          "state": {
            "_model_module": "@jupyter-widgets/base",
            "_model_module_version": "1.2.0",
            "_model_name": "LayoutModel",
            "_view_count": null,
            "_view_module": "@jupyter-widgets/base",
            "_view_module_version": "1.2.0",
            "_view_name": "LayoutView",
            "align_content": null,
            "align_items": null,
            "align_self": null,
            "border": null,
            "bottom": null,
            "display": null,
            "flex": null,
            "flex_flow": null,
            "grid_area": null,
            "grid_auto_columns": null,
            "grid_auto_flow": null,
            "grid_auto_rows": null,
            "grid_column": null,
            "grid_gap": null,
            "grid_row": null,
            "grid_template_areas": null,
            "grid_template_columns": null,
            "grid_template_rows": null,
            "height": null,
            "justify_content": null,
            "justify_items": null,
            "left": null,
            "margin": null,
            "max_height": null,
            "max_width": null,
            "min_height": null,
            "min_width": null,
            "object_fit": null,
            "object_position": null,
            "order": null,
            "overflow": null,
            "overflow_x": null,
            "overflow_y": null,
            "padding": null,
            "right": null,
            "top": null,
            "visibility": null,
            "width": null
          }
        },
        "b83aa9deb1304dd8928343ed22a6cad6": {
          "model_module": "@jupyter-widgets/base",
          "model_name": "LayoutModel",
          "model_module_version": "1.2.0",
          "state": {
            "_model_module": "@jupyter-widgets/base",
            "_model_module_version": "1.2.0",
            "_model_name": "LayoutModel",
            "_view_count": null,
            "_view_module": "@jupyter-widgets/base",
            "_view_module_version": "1.2.0",
            "_view_name": "LayoutView",
            "align_content": null,
            "align_items": null,
            "align_self": null,
            "border": null,
            "bottom": null,
            "display": null,
            "flex": null,
            "flex_flow": null,
            "grid_area": null,
            "grid_auto_columns": null,
            "grid_auto_flow": null,
            "grid_auto_rows": null,
            "grid_column": null,
            "grid_gap": null,
            "grid_row": null,
            "grid_template_areas": null,
            "grid_template_columns": null,
            "grid_template_rows": null,
            "height": null,
            "justify_content": null,
            "justify_items": null,
            "left": null,
            "margin": null,
            "max_height": null,
            "max_width": null,
            "min_height": null,
            "min_width": null,
            "object_fit": null,
            "object_position": null,
            "order": null,
            "overflow": null,
            "overflow_x": null,
            "overflow_y": null,
            "padding": null,
            "right": null,
            "top": null,
            "visibility": null,
            "width": null
          }
        },
        "4c6889c4135b4c9fafb2f355631c02f0": {
          "model_module": "@jupyter-widgets/controls",
          "model_name": "DescriptionStyleModel",
          "model_module_version": "1.5.0",
          "state": {
            "_model_module": "@jupyter-widgets/controls",
            "_model_module_version": "1.5.0",
            "_model_name": "DescriptionStyleModel",
            "_view_count": null,
            "_view_module": "@jupyter-widgets/base",
            "_view_module_version": "1.2.0",
            "_view_name": "StyleView",
            "description_width": ""
          }
        },
        "b8a434f9786e41afa636fd3cbae89188": {
          "model_module": "@jupyter-widgets/base",
          "model_name": "LayoutModel",
          "model_module_version": "1.2.0",
          "state": {
            "_model_module": "@jupyter-widgets/base",
            "_model_module_version": "1.2.0",
            "_model_name": "LayoutModel",
            "_view_count": null,
            "_view_module": "@jupyter-widgets/base",
            "_view_module_version": "1.2.0",
            "_view_name": "LayoutView",
            "align_content": null,
            "align_items": null,
            "align_self": null,
            "border": null,
            "bottom": null,
            "display": null,
            "flex": null,
            "flex_flow": null,
            "grid_area": null,
            "grid_auto_columns": null,
            "grid_auto_flow": null,
            "grid_auto_rows": null,
            "grid_column": null,
            "grid_gap": null,
            "grid_row": null,
            "grid_template_areas": null,
            "grid_template_columns": null,
            "grid_template_rows": null,
            "height": null,
            "justify_content": null,
            "justify_items": null,
            "left": null,
            "margin": null,
            "max_height": null,
            "max_width": null,
            "min_height": null,
            "min_width": null,
            "object_fit": null,
            "object_position": null,
            "order": null,
            "overflow": null,
            "overflow_x": null,
            "overflow_y": null,
            "padding": null,
            "right": null,
            "top": null,
            "visibility": null,
            "width": null
          }
        },
        "cdd650ebc81c431f961bb91b85f0ca62": {
          "model_module": "@jupyter-widgets/controls",
          "model_name": "ProgressStyleModel",
          "model_module_version": "1.5.0",
          "state": {
            "_model_module": "@jupyter-widgets/controls",
            "_model_module_version": "1.5.0",
            "_model_name": "ProgressStyleModel",
            "_view_count": null,
            "_view_module": "@jupyter-widgets/base",
            "_view_module_version": "1.2.0",
            "_view_name": "StyleView",
            "bar_color": null,
            "description_width": ""
          }
        },
        "be2ffa50a9ea46f8b643787bc60b247c": {
          "model_module": "@jupyter-widgets/base",
          "model_name": "LayoutModel",
          "model_module_version": "1.2.0",
          "state": {
            "_model_module": "@jupyter-widgets/base",
            "_model_module_version": "1.2.0",
            "_model_name": "LayoutModel",
            "_view_count": null,
            "_view_module": "@jupyter-widgets/base",
            "_view_module_version": "1.2.0",
            "_view_name": "LayoutView",
            "align_content": null,
            "align_items": null,
            "align_self": null,
            "border": null,
            "bottom": null,
            "display": null,
            "flex": null,
            "flex_flow": null,
            "grid_area": null,
            "grid_auto_columns": null,
            "grid_auto_flow": null,
            "grid_auto_rows": null,
            "grid_column": null,
            "grid_gap": null,
            "grid_row": null,
            "grid_template_areas": null,
            "grid_template_columns": null,
            "grid_template_rows": null,
            "height": null,
            "justify_content": null,
            "justify_items": null,
            "left": null,
            "margin": null,
            "max_height": null,
            "max_width": null,
            "min_height": null,
            "min_width": null,
            "object_fit": null,
            "object_position": null,
            "order": null,
            "overflow": null,
            "overflow_x": null,
            "overflow_y": null,
            "padding": null,
            "right": null,
            "top": null,
            "visibility": null,
            "width": null
          }
        },
        "d0b8eb743f9e4753a4ea5ffc1c647767": {
          "model_module": "@jupyter-widgets/controls",
          "model_name": "DescriptionStyleModel",
          "model_module_version": "1.5.0",
          "state": {
            "_model_module": "@jupyter-widgets/controls",
            "_model_module_version": "1.5.0",
            "_model_name": "DescriptionStyleModel",
            "_view_count": null,
            "_view_module": "@jupyter-widgets/base",
            "_view_module_version": "1.2.0",
            "_view_name": "StyleView",
            "description_width": ""
          }
        }
      }
    }
  },
  "cells": [
    {
      "cell_type": "markdown",
      "source": [
        "# \"Folio 03: MLP Classifier\"\n",
        "> \"[ML 3/3] Use Neural Networks for Data Classification with Keras\"\n",
        "\n",
        "- toc: true\n",
        "- branch: master\n",
        "- badges: true\n",
        "- image: images/ipynb/mlp_clf_main.png\n",
        "- comments: false\n",
        "- author: Giaco Stantino\n",
        "- categories: [portfolio project, machine learning]\n",
        "- hide: false\n",
        "- search_exclude: true\n",
        "- permalink: /blog/folio-mlp-classifier"
      ],
      "metadata": {
        "id": "wV7aeg451OWs"
      }
    },
    {
      "cell_type": "markdown",
      "source": [
        "# Intro\n",
        "\n",
        "I would like to try something new. I want to build something more *explainatory* and *exploraroty*... to use my experience and knowledge gained while working on computer vision for my master's thesis. \n",
        "\n",
        "I think this the perfect oportunity! In the third part of ML notebooks for Folio series we are going to **build MLP classifier** that is very focused on explaining accuracy improving and regularization techniques. In this notebook I try to explain some core neural network features and training with Keras library. \n",
        "\n",
        "***\n",
        "\n",
        "**Task:** Classify existing clients into marketing segments based on bank statistics.\n",
        "\n",
        "\n",
        "The notebook consists of:\n",
        "1. Data Transformation\n",
        "2. Activation Function\n",
        "3. Number of layers\n",
        "4. Number of epoches\n",
        "5. Regularization\n",
        "\n",
        "***"
      ],
      "metadata": {
        "id": "2CMg51MSvo7z"
      }
    },
    {
      "cell_type": "code",
      "source": [
        "#collapse-hide\n",
        "import pandas as pd\n",
        "import numpy as np\n",
        "import tensorflow as tf\n",
        "\n",
        "# # # set random seeds\n",
        "import random\n",
        "random.seed(42)\n",
        "np.random.seed(42)\n",
        "tf.random.set_seed(42)\n",
        "# # #\n",
        "\n",
        "import matplotlib.pyplot as plt\n",
        "import seaborn as sns\n",
        "%matplotlib inline"
      ],
      "metadata": {
        "colab": {
          "base_uri": "https://localhost:8080/",
          "height": 17
        },
        "id": "ttby-6JK5QFl",
        "outputId": "d175a905-518e-412e-816c-722467289596"
      },
      "execution_count": 2,
      "outputs": [
        {
          "output_type": "display_data",
          "data": {
            "text/html": [
              "        <script type=\"text/javascript\">\n",
              "        window.PlotlyConfig = {MathJaxConfig: 'local'};\n",
              "        if (window.MathJax) {MathJax.Hub.Config({SVG: {font: \"STIX-Web\"}});}\n",
              "        if (typeof require !== 'undefined') {\n",
              "        require.undef(\"plotly\");\n",
              "        requirejs.config({\n",
              "            paths: {\n",
              "                'plotly': ['https://cdn.plot.ly/plotly-2.8.3.min']\n",
              "            }\n",
              "        });\n",
              "        require(['plotly'], function(Plotly) {\n",
              "            window._Plotly = Plotly;\n",
              "        });\n",
              "        }\n",
              "        </script>\n",
              "        "
            ]
          },
          "metadata": {}
        }
      ]
    },
    {
      "cell_type": "code",
      "source": [
        "#collapse-hide\n",
        "def getDataRepo(data='demographics'):\n",
        "    \"\"\"\n",
        "    returns specified data from Repository as DataFrame\n",
        "    Parameters:\n",
        "    path - ['demographics', 'statistics' or 'segments']; default: 'demographics'\n",
        "    \"\"\"\n",
        "    try:\n",
        "        url = 'https://github.com/giastantino/PortfolioProject/blob/main/Notebooks/Data/' + data + '.csv?raw=True'\n",
        "        client_df = pd.read_csv(url)\n",
        "        print(data + ' data has been read')\n",
        "        return client_df\n",
        "    except Exception as e:\n",
        "        print(e)"
      ],
      "metadata": {
        "id": "ztzgcEIW5R27"
      },
      "execution_count": 3,
      "outputs": []
    },
    {
      "cell_type": "code",
      "source": [
        "#collapse-hide\n",
        "# read demographic data\n",
        "demo_df = getDataRepo('statistics')\n",
        "\n",
        "# read segments data\n",
        "segment_df = getDataRepo('segments')\n",
        "\n",
        "# create df for clients with known segment\n",
        "client_df = demo_df.merge(segment_df, on='client_id')\n",
        "\n",
        "# create df for clients with unknown segment\n",
        "unknown_df = demo_df[~demo_df['client_id'].isin(segment_df['client_id'])].reset_index(drop=True)"
      ],
      "metadata": {
        "colab": {
          "base_uri": "https://localhost:8080/"
        },
        "id": "0w8X2m8Q5Tbr",
        "outputId": "0925608d-1e3c-4664-cdd4-3fc557dc1f2a"
      },
      "execution_count": 4,
      "outputs": [
        {
          "output_type": "stream",
          "name": "stdout",
          "text": [
            "statistics data has been read\n",
            "segments data has been read\n"
          ]
        }
      ]
    },
    {
      "cell_type": "markdown",
      "source": [
        "# Data transformation\n",
        "\n",
        "We are going to use power transform like in clustering notebook. \n",
        "\n",
        "Let's check if anything is missing in imported data."
      ],
      "metadata": {
        "id": "WVgjorp3vp1L"
      }
    },
    {
      "cell_type": "code",
      "source": [
        "#collapse-hide\n",
        "print(f\"NaN values in the data:\\n-----------------\\n{client_df.isna().sum()}\")"
      ],
      "metadata": {
        "id": "Be4BUl1n5VRu",
        "colab": {
          "base_uri": "https://localhost:8080/"
        },
        "outputId": "f0c34ea0-ca58-4cf6-bbd1-d420bb48d9fc"
      },
      "execution_count": 5,
      "outputs": [
        {
          "output_type": "stream",
          "name": "stdout",
          "text": [
            "NaN values in the data:\n",
            "-----------------\n",
            "client_id                                0\n",
            "attrition_flag                           0\n",
            "months_on_book                           0\n",
            "products_num_held_by_client              0\n",
            "inactive_months_in_last_year             0\n",
            "contacts_in_last_year                    0\n",
            "average_open_to_buy_credit_line          0\n",
            "total_transaction_amount_change_q4_q1    0\n",
            "total_transaction_amount_last_year       0\n",
            "total_transaction_count_last_year        0\n",
            "total_trasaction_count_change_q4_q1      0\n",
            "average_card_utilazation_ratio           0\n",
            "segment                                  0\n",
            "dtype: int64\n"
          ]
        }
      ]
    },
    {
      "cell_type": "code",
      "source": [
        "#hide\n",
        "print(client_df.info())"
      ],
      "metadata": {
        "id": "vM9C2d8i5Xoz",
        "colab": {
          "base_uri": "https://localhost:8080/"
        },
        "outputId": "999c6ea4-6927-45c9-854a-e62d3e876b2b"
      },
      "execution_count": 6,
      "outputs": [
        {
          "output_type": "stream",
          "name": "stdout",
          "text": [
            "<class 'pandas.core.frame.DataFrame'>\n",
            "Int64Index: 8223 entries, 0 to 8222\n",
            "Data columns (total 13 columns):\n",
            " #   Column                                 Non-Null Count  Dtype  \n",
            "---  ------                                 --------------  -----  \n",
            " 0   client_id                              8223 non-null   int64  \n",
            " 1   attrition_flag                         8223 non-null   object \n",
            " 2   months_on_book                         8223 non-null   int64  \n",
            " 3   products_num_held_by_client            8223 non-null   int64  \n",
            " 4   inactive_months_in_last_year           8223 non-null   int64  \n",
            " 5   contacts_in_last_year                  8223 non-null   int64  \n",
            " 6   average_open_to_buy_credit_line        8223 non-null   float64\n",
            " 7   total_transaction_amount_change_q4_q1  8223 non-null   float64\n",
            " 8   total_transaction_amount_last_year     8223 non-null   float64\n",
            " 9   total_transaction_count_last_year      8223 non-null   int64  \n",
            " 10  total_trasaction_count_change_q4_q1    8223 non-null   int64  \n",
            " 11  average_card_utilazation_ratio         8223 non-null   float64\n",
            " 12  segment                                8223 non-null   object \n",
            "dtypes: float64(4), int64(7), object(2)\n",
            "memory usage: 899.4+ KB\n",
            "None\n"
          ]
        }
      ]
    },
    {
      "cell_type": "markdown",
      "source": [
        "***\n",
        "\n",
        "Define data X and targets y for our neural network."
      ],
      "metadata": {
        "id": "hhSe-7S6m4lO"
      }
    },
    {
      "cell_type": "code",
      "source": [
        "from sklearn.model_selection import train_test_split\n",
        "\n",
        "# define target y and data X\n",
        "X = client_df.drop(['client_id','segment', 'attrition_flag'],axis=1).values\n",
        "y = client_df[['segment']]"
      ],
      "metadata": {
        "id": "R962xQ005ccJ"
      },
      "execution_count": 7,
      "outputs": []
    },
    {
      "cell_type": "markdown",
      "source": [
        "Transform the data and encode the targets. We need to one-hot encode the target classes as neural network will return 'probability' for each class in separate neurons. "
      ],
      "metadata": {
        "id": "SWEHaXawnEWW"
      }
    },
    {
      "cell_type": "code",
      "source": [
        "from sklearn.preprocessing import PowerTransformer, LabelEncoder\n",
        "from keras.utils import np_utils\n",
        "\n",
        "# encode data X\n",
        "ptr = PowerTransformer()\n",
        "X = ptr.fit_transform(X)\n",
        "\n",
        "# encode target y\n",
        "encoder = LabelEncoder()\n",
        "encoded_y = encoder.fit_transform(np.ravel(y))\n",
        "# convert integers to dummy variables (i.e. one hot encoded)\n",
        "dummy_y = np_utils.to_categorical(encoded_y)"
      ],
      "metadata": {
        "id": "3nlxebYC5k78"
      },
      "execution_count": 8,
      "outputs": []
    },
    {
      "cell_type": "markdown",
      "source": [
        "Split the data into training and testing dataset."
      ],
      "metadata": {
        "id": "SDN_qxVgnawI"
      }
    },
    {
      "cell_type": "code",
      "source": [
        "from sklearn.model_selection import train_test_split\n",
        "\n",
        "# define the 80_20 train_test splits \n",
        "X_train, X_test, y_train, y_test = train_test_split(X, dummy_y, test_size=0.2, random_state=42)"
      ],
      "metadata": {
        "id": "5XqlG_gm5vKH"
      },
      "execution_count": 9,
      "outputs": []
    },
    {
      "cell_type": "markdown",
      "source": [
        "# <center> Baseline model </center>\n",
        "\n",
        "In this notebook we are using Multilayer Perceptron as our classifier. Let's define the base model with 10 neurons in the hidden layer."
      ],
      "metadata": {
        "id": "uNQlTLMrCFNC"
      }
    },
    {
      "cell_type": "code",
      "source": [
        "from keras.models import Sequential\n",
        "from keras.layers import Dense, Dropout\n",
        "\n",
        "# define number of input features\n",
        "input_features = X_train.shape[1]\n",
        "\n",
        "# uncompiled model\n",
        "def uncompiled_base(input_dim=4):\n",
        "\t# create model\n",
        "  model = Sequential()\n",
        "  model.add(Dense(10, input_dim=input_dim, activation='linear'))\n",
        "  model.add(Dense(4, activation='softmax'))\n",
        "\t\n",
        "  return model\n",
        "\n",
        "# baseline model\n",
        "def baseline_model(input_dim):\n",
        "  model = uncompiled_base(input_dim=input_dim)\n",
        "  \n",
        "  # Compile model\n",
        "  model.compile(loss='categorical_crossentropy', \n",
        "                optimizer='adam', \n",
        "                metrics=['accuracy'])\n",
        "\n",
        "  return model\n",
        "\n",
        "# define model\n",
        "mlp = baseline_model(input_dim=input_features)\n",
        "\n",
        "# checkup model\n",
        "mlp.summary()"
      ],
      "metadata": {
        "colab": {
          "base_uri": "https://localhost:8080/"
        },
        "id": "8JH_x0X0DYCS",
        "outputId": "6eec137e-51dd-45a0-a5e1-d00fbeefc710"
      },
      "execution_count": 10,
      "outputs": [
        {
          "output_type": "stream",
          "name": "stdout",
          "text": [
            "Model: \"sequential\"\n",
            "_________________________________________________________________\n",
            " Layer (type)                Output Shape              Param #   \n",
            "=================================================================\n",
            " dense (Dense)               (None, 10)                110       \n",
            "                                                                 \n",
            " dense_1 (Dense)             (None, 4)                 44        \n",
            "                                                                 \n",
            "=================================================================\n",
            "Total params: 154\n",
            "Trainable params: 154\n",
            "Non-trainable params: 0\n",
            "_________________________________________________________________\n"
          ]
        }
      ]
    },
    {
      "cell_type": "code",
      "source": [
        "# train baseline model\n",
        "history = mlp.fit(X_train, y_train, epochs=20, validation_split=0.2, verbose=0)\n",
        "print(f'BASELINE\\taccuracy: {history.history[\"accuracy\"][-1]*100:.2f} \\t validation accuracy: {history.history[\"val_accuracy\"][-1]*100:.2f}')"
      ],
      "metadata": {
        "colab": {
          "base_uri": "https://localhost:8080/"
        },
        "id": "qthWLgcXDcyq",
        "outputId": "3c6a520e-18e8-4cb3-a376-e412bf219682"
      },
      "execution_count": 11,
      "outputs": [
        {
          "output_type": "stream",
          "name": "stdout",
          "text": [
            "BASELINE\taccuracy: 96.64 \t validation accuracy: 97.11\n"
          ]
        }
      ]
    },
    {
      "cell_type": "markdown",
      "source": [
        "The baseline model with linear neuron scores around 97% in training. Let's try to best it with modifications."
      ],
      "metadata": {
        "id": "-w-IDUFFTGvo"
      }
    },
    {
      "cell_type": "markdown",
      "source": [
        "# <center> Activation Function </center>\n",
        "\n",
        "The activation function is performed on the sum of all inputs, for the classic perceptron it was a unipolar function, which output was a binary function. However, in modern neural networks, and thus MLP as well, a different approach is commonly used, such as the ReLU or Sigmoid function. \n",
        "\n",
        "<center><img src=\"https://github.com/giastantino/repository/blob/main/images/ipynb/mlp_clf_neuron.png?raw=true\" width=\"400\"></center>\n",
        "\n",
        "***"
      ],
      "metadata": {
        "id": "W6-6Xt3Cvp3w"
      }
    },
    {
      "cell_type": "markdown",
      "source": [
        "Let's consider three activation functions and how they affect our model: [sigmoid](#), [ReLU](#) and [softplus](#)\n",
        "\n",
        "<center><img src=\"https://github.com/giastantino/repository/blob/main/images/ipynb/mlp_clf_activationfunction.png?raw=true\" width=\"500\"></center>\n",
        "\n",
        "Sigmoid function squishes any real number into a range between 0 and 1, mathematically 1 / (1 + np.exp(-x)). ReLU is a function that for negative  input returns 0 and for postive returns itself. SoftPlus is a smooth approximation to the ReLU function.\n",
        "\n",
        "\n",
        "> Note: In the model we are using softmax fuction in the final layer to make multiclass predictions."
      ],
      "metadata": {
        "id": "DS9wfIOB8eYW"
      }
    },
    {
      "cell_type": "code",
      "source": [
        "def get_active_model(input_dim=4, act_fun='relu'):\n",
        "\t# create model\n",
        "  model = Sequential()\n",
        "  model.add(Dense(10, input_dim=input_dim, activation=act_fun))\n",
        "  model.add(Dense(4, activation='softmax'))\n",
        "\t\n",
        "  # compile model\n",
        "  model.compile(loss='categorical_crossentropy', \n",
        "                optimizer='adam', \n",
        "                metrics=['accuracy'])\n",
        "  return model\n",
        "\n",
        "# define mlp with relu activation\n",
        "sigm_mlp = get_active_model(input_dim=input_features, act_fun='sigmoid')\n",
        "# define mlp with relu activation\n",
        "relu_mlp = get_active_model(input_dim=input_features, act_fun='relu')\n",
        "# define mlp with relu activation\n",
        "soft_mlp = get_active_model(input_dim=input_features, act_fun='softmax')"
      ],
      "metadata": {
        "id": "3iUyfNyCB6Vw"
      },
      "execution_count": 12,
      "outputs": []
    },
    {
      "cell_type": "code",
      "source": [
        "#collapse-hide\n",
        "# train sigmoid model\n",
        "sigm_story = sigm_mlp.fit(X_train, y_train, epochs=20, validation_split=0.2, verbose=0)\n",
        "print(f'Sigmoid model \\taccuracy: {sigm_story.history[\"accuracy\"][-1]*100:.2f} \\t validation accuracy: {sigm_story.history[\"val_accuracy\"][-1]*100:.2f}')\n",
        "\n",
        "# train relu model\n",
        "relu_story = relu_mlp.fit(X_train, y_train, epochs=20, validation_split=0.2, verbose=0)\n",
        "print(f'ReLU model    \\taccuracy: {relu_story.history[\"accuracy\"][-1]*100:.2f} \\t validation accuracy: {relu_story.history[\"val_accuracy\"][-1]*100:.2f}')\n",
        "\n",
        "# train softmax model\n",
        "soft_story = soft_mlp.fit(X_train, y_train, epochs=20, validation_split=0.2, verbose=0)\n",
        "print(f'Softmax model \\taccuracy: {soft_story.history[\"accuracy\"][-1]*100:.2f} \\t validation accuracy: {soft_story.history[\"val_accuracy\"][-1]*100:.2f}')"
      ],
      "metadata": {
        "colab": {
          "base_uri": "https://localhost:8080/"
        },
        "id": "Frl9AFv9XXJg",
        "outputId": "704a9af4-54bb-4c58-9487-a7d35f0099ea"
      },
      "execution_count": 61,
      "outputs": [
        {
          "output_type": "stream",
          "name": "stdout",
          "text": [
            "Sigmoid model \taccuracy: 95.97 \t validation accuracy: 95.44\n",
            "ReLU model    \taccuracy: 97.21 \t validation accuracy: 97.19\n",
            "Softmax model \taccuracy: 96.45 \t validation accuracy: 96.20\n"
          ]
        }
      ]
    },
    {
      "cell_type": "markdown",
      "source": [
        "In our case model with ReLU activation function outperform other MLPs. It has 0.0.6% better accuracy than the baseline model with linear function, which is 17% error reduction! Let's use the ReLU function for further experiments.\n",
        "\n",
        "> Warning: Sometimes sigmoid or softmax function may outperform ReLu based models when changing the architecture, eg. adding extra layers. Therefore it is important to conduct experiments in methodical fashion."
      ],
      "metadata": {
        "id": "L4IHrxGVYOjO"
      }
    },
    {
      "cell_type": "markdown",
      "source": [
        "# <center> Number of layers and neurons </center>\n",
        "\n",
        "MLP stands for multi layer perceptron, but so far we were using model with input, hidden and  output layer. Let's try adding hidden layers and increasing number of neurons."
      ],
      "metadata": {
        "id": "OglOtAEevp6U"
      }
    },
    {
      "cell_type": "code",
      "source": [
        "def get_model(input_dim=4, hidden_layers=[], act_fun='relu'):\n",
        "\t# create model\n",
        "  model = Sequential()\n",
        "  # add initial layer\n",
        "  model.add(Dense(hidden_layers[0], input_dim=input_dim, activation=act_fun))\n",
        "  # add hidden layers\n",
        "  for layer in hidden_layers[1:]:\n",
        "    model.add(Dense(layer, activation=act_fun))\n",
        "  # add final layer\n",
        "  model.add(Dense(4, activation='softmax'))\n",
        "\t# compile model\n",
        "  model.compile(loss='categorical_crossentropy', \n",
        "                optimizer='adam', \n",
        "                metrics=['accuracy'])\n",
        "  return model"
      ],
      "metadata": {
        "id": "B4joDFlq8nef"
      },
      "execution_count": 13,
      "outputs": []
    },
    {
      "cell_type": "code",
      "source": [
        "# defince hidden layers to inspect\n",
        "hidden = dict()\n",
        "hidden[0] = [10]\n",
        "hidden[1] = [50]\n",
        "hidden[2] = [10, 10]\n",
        "hidden[3] = [50, 50]\n",
        "hidden[4] = [100, 100]\n",
        "hidden[5] = [10, 10, 10]\n",
        "hidden[6] = [20, 20, 20]\n",
        "hidden[7] = [50, 50, 50]\n",
        "hidden[8] = [100, 100, 100]\n",
        "hidden[9] = [100, 50, 100]\n",
        "\n",
        "# get accuracies for models with hidden layers\n",
        "for hid in hidden:\n",
        "  model = get_model(input_dim=input_features, hidden_layers=hidden[hid])\n",
        "  story = model.fit(X_train, y_train, epochs=20, batch_size=50, validation_split=0.2, verbose=0)\n",
        "  print(f'hidden layers: {hidden[hid]}  \\taccuracy: {story.history[\"accuracy\"][-1]*100:.2f} \\t validation accuracy: {story.history[\"val_accuracy\"][-1]*100:.2f}')"
      ],
      "metadata": {
        "colab": {
          "base_uri": "https://localhost:8080/"
        },
        "id": "tf8uHx-18njY",
        "outputId": "8857ab7e-2957-4472-9fea-b39e694d936a"
      },
      "execution_count": 14,
      "outputs": [
        {
          "output_type": "stream",
          "name": "stdout",
          "text": [
            "hidden layers: [10]  \taccuracy: 96.37 \t validation accuracy: 96.05\n",
            "hidden layers: [50]  \taccuracy: 98.19 \t validation accuracy: 97.64\n",
            "hidden layers: [10, 10]  \taccuracy: 96.88 \t validation accuracy: 96.20\n",
            "hidden layers: [50, 50]  \taccuracy: 99.14 \t validation accuracy: 97.80\n",
            "hidden layers: [100, 100]  \taccuracy: 99.28 \t validation accuracy: 97.87\n",
            "hidden layers: [10, 10, 10]  \taccuracy: 97.74 \t validation accuracy: 96.43\n",
            "hidden layers: [20, 20, 20]  \taccuracy: 98.29 \t validation accuracy: 96.88\n",
            "hidden layers: [50, 50, 50]  \taccuracy: 99.24 \t validation accuracy: 97.42\n",
            "hidden layers: [100, 100, 100]  \taccuracy: 99.43 \t validation accuracy: 97.34\n",
            "hidden layers: [100, 50, 100]  \taccuracy: 99.22 \t validation accuracy: 97.64\n"
          ]
        }
      ]
    },
    {
      "cell_type": "markdown",
      "source": [
        "We can see that increasing number of layers and neurons has a positvie impact on training accuracy, however it is not that obviuos for validation subset. We can see that models bigger than `[50, 50]` hidden layers do better in training but not in validation - this suggests that bigger models are overfitting. In other words, bigger models are capable of learning traning data by heart, which is not desirable for test data.\n",
        "\n",
        "Let's inspect further the best performing model: `[input, 50, 50, output]`"
      ],
      "metadata": {
        "id": "2rTNdnkn0dto"
      }
    },
    {
      "cell_type": "markdown",
      "source": [
        "# <center> Epoches and Batches </center>\n",
        "\n",
        "We can increase model's performance with more training epoches - number of times MLP has seen traning data. Moreover, we can also manipulate number of objects model sees each iteration in the epoch - batches."
      ],
      "metadata": {
        "id": "oogpoPQvvp98"
      }
    },
    {
      "cell_type": "markdown",
      "source": [
        "## Batch Size\n",
        "\n",
        "Let's inspect validation accuracy of chosen model with diffrent batch sizes: online training (batch_size=1), 10, 20, 50, 100."
      ],
      "metadata": {
        "id": "j-U3S3W_E_35"
      }
    },
    {
      "cell_type": "code",
      "source": [
        "# batch sizes\n",
        "batches = [1, 10, 20, 50, 100]\n",
        "# model results history dictionary\n",
        "history = dict()\n",
        "# define model\n",
        "mlp = get_model(input_dim=input_features, hidden_layers=[50,50])\n",
        "# iterate through batch sizes\n",
        "for b in batches:\n",
        "  story = mlp.fit(X_train, y_train, validation_split=0.2, epochs=100, batch_size=b, verbose=0)\n",
        "  history[b] = story.history['val_accuracy']"
      ],
      "metadata": {
        "id": "JPMpjc-yFrgi"
      },
      "execution_count": 118,
      "outputs": []
    },
    {
      "cell_type": "code",
      "source": [
        "#collapse-hide\n",
        "# plot validation accuracies\n",
        "fig, ax = plt.subplots(figsize=(14, 8))\n",
        "line = sns.lineplot(data = pd.DataFrame(history))\n",
        "\n",
        "# setup the plot\n",
        "line.xaxis.grid(True)\n",
        "line.set_xlabel('Epoch', fontsize=14, labelpad = 10)\n",
        "line.set_ylabel('Accuracy', fontsize=14, labelpad = 10)\n",
        "line.set_title('Validation accuracy', fontsize=20, pad=15)\n",
        "line.set_xlim(1, 99)\n",
        "line.set_ylim(0.955, None);"
      ],
      "metadata": {
        "colab": {
          "base_uri": "https://localhost:8080/",
          "height": 537
        },
        "id": "rmeB9sHpJlho",
        "outputId": "4775db41-bc9f-4cc5-d906-2e09d99267bb"
      },
      "execution_count": 119,
      "outputs": [
        {
          "output_type": "display_data",
          "data": {
            "text/plain": [
              "<Figure size 1008x576 with 1 Axes>"
            ],
            "image/png": "[encoded data removed]"
          },
          "metadata": {
            "needs_background": "light"
          }
        }
      ]
    },
    {
      "cell_type": "markdown",
      "source": [
        "In the above figure we can clearly see that accuracy score for `batch_size = 1` is very irregular and thus not predictible. On the other hand, for large batch sizes score is stable, which suggest that network doesn't learn new features with consequent epochs. Therefore we are going to proceed with `batch_size = 10`, which looks like good middle ground in our case.\n"
      ],
      "metadata": {
        "id": "2LEjGDDYS7gK"
      }
    },
    {
      "cell_type": "markdown",
      "source": [
        "## Overfitting vs number of epoches\n",
        "\n",
        "Having chosen the architecture and batch size. we shall check how our model behaves in terms of loss (cost function). How many epoches improve model predictions and if the overfitting occurs."
      ],
      "metadata": {
        "id": "0CrX0AQtNhFd"
      }
    },
    {
      "cell_type": "code",
      "source": [
        "# fit the model\n",
        "model = get_model(input_dim=input_features, hidden_layers=[50,50],)\n",
        "history = model.fit(X_train, y_train, validation_split=0.2, epochs=150, batch_size=10, verbose=0)"
      ],
      "metadata": {
        "id": "Q_wVRkvn9J4C"
      },
      "execution_count": 16,
      "outputs": []
    },
    {
      "cell_type": "code",
      "source": [
        "#collapse-hide\n",
        "# define dataframe with model metrics\n",
        "df = pd.DataFrame(history.history, columns=history.history.keys())\n",
        "\n",
        "# setup figure\n",
        "fig, (ax1, ax2) = plt.subplots(figsize=(22, 6), ncols=2)\n",
        "\n",
        "# plot model accuracy \n",
        "fig1 = sns.lineplot(data=df[['accuracy','val_accuracy']], palette='YlGnBu', ax=ax1)\n",
        "fig1.set_title('Model accuracy', fontsize=20, pad=15)\n",
        "fig1.set_ylabel('accuracy', fontsize=14, labelpad = 10)\n",
        "fig1.set_xlabel('epoch', fontsize=14, labelpad = 10)\n",
        "fig1.legend(['train', 'valid'], loc='upper left')\n",
        "\n",
        "# plot model loss function\n",
        "fig2 = sns.lineplot(data=df[['loss','val_loss']], palette='YlGnBu', ax=ax2)\n",
        "fig2.set_title('Loss function', fontsize=20, pad=15)\n",
        "fig2.set_ylabel('loss', fontsize=14, labelpad = 10)\n",
        "fig2.set_xlabel('epoch', fontsize=14, labelpad = 10)\n",
        "fig2.legend(['train', 'valid'], loc='upper left');"
      ],
      "metadata": {
        "colab": {
          "base_uri": "https://localhost:8080/",
          "height": 428
        },
        "id": "IN32AiU7YAP5",
        "outputId": "955b3c07-d5bc-4b4a-f753-c8284f2413ed"
      },
      "execution_count": 17,
      "outputs": [
        {
          "output_type": "display_data",
          "data": {
            "text/plain": [
              "<Figure size 1584x432 with 2 Axes>"
            ],
            "image/png": "[encoded data removed]"
          },
          "metadata": {
            "needs_background": "light"
          }
        }
      ]
    },
    {
      "cell_type": "markdown",
      "source": [
        "In the above graphs, there are plotted model scores for accuracy on the left and for the value of loss function on the rigth. We can see that model doesn't improve in term's of accuracy after ca. 60 epochs. On the other hand it starts to overfit the data after ca. 40 epochs - the loss function for training and validation spreads out in different directions.\n",
        "\n",
        "In order to prevent model from overfitting we will use some regularization techniques.\n"
      ],
      "metadata": {
        "id": "A51WrbO37It1"
      }
    },
    {
      "cell_type": "markdown",
      "source": [
        "# Regularization\n",
        "\n",
        "Having read this notebook we could relize how complex neural networks are. This makes them more prone to overfitting. Regularization is a technique which makes slight modifications to the learning algorithm such that the model generalizes better. This in turn improves the model's performance on the unseen data as well."
      ],
      "metadata": {
        "id": "HjfI6qi8vqAX"
      }
    },
    {
      "cell_type": "markdown",
      "source": [
        "## Dropout\n",
        "\n",
        "This is one of the most interesting types of regularization techniques. It also produces very good results and is consequently the most frequently used regularization technique in the field of deep learning.\n",
        "\n",
        "So what does dropout do? At every iteration, it randomly selects some nodes and removes them along with all of their incoming and outgoing connections as shown below.\n",
        "\n",
        "<center><img src=\"https://github.com/giastantino/repository/blob/main/images/ipynb/mlp_clf_dropout.png?raw=true\" width=\"400\"></center>\n"
      ],
      "metadata": {
        "id": "s1QP9TN0D7-3"
      }
    },
    {
      "cell_type": "markdown",
      "source": [
        "## Early stopping\n",
        "\n",
        "Early stopping is a kind of cross-validation strategy where we keep one part of the training set as the validation set. When we see that the performance on the validation set is getting worse, we immediately stop the training on the model. This is known as early stopping.\n",
        "\n",
        "<center><img src=\"https://github.com/giastantino/repository/blob/main/images/ipynb/mlp_clf_earlystopping.png.png?raw=true\"></center>"
      ],
      "metadata": {
        "id": "vW31JH1_EhQy"
      }
    },
    {
      "cell_type": "markdown",
      "source": [
        "# <center> Summary </center>\n",
        "\n",
        "Let's sum up everythin in final code cell. Firstly, we define the `get_model` function with hidden layer and drop rate. Then, we create callback objects which represent early stopping and saving the checkpoint model - currently the best model based on test accuracy."
      ],
      "metadata": {
        "id": "TrzcHt1gdrXb"
      }
    },
    {
      "cell_type": "code",
      "source": [
        "from keras.callbacks import EarlyStopping\n",
        "from keras.callbacks import ModelCheckpoint\n",
        "from keras.models import load_model\n",
        "from tqdm.keras import TqdmCallback\n",
        "\n",
        "# get model\n",
        "def get_model(input_dim=4, layers=[], drop_rate=0.2, act_fun='relu'):\n",
        "\t# create model\n",
        "  model = Sequential()\n",
        "  # add initial layer with dropout\n",
        "  model.add(Dense(layers[0], input_dim=input_dim, activation=act_fun))\n",
        "  model.add(Dropout(drop_rate))\n",
        "  # add hidden layers\n",
        "  for layer in layers[1:]:\n",
        "    model.add(Dense(layer, activation=act_fun))\n",
        "    model.add(Dropout(drop_rate))\n",
        "  # add final layer  \n",
        "  model.add(Dense(4, activation='softmax'))\n",
        "\t# compile the model\n",
        "  model.compile(loss='categorical_crossentropy', \n",
        "                optimizer='adam', \n",
        "                metrics=['accuracy'])\n",
        "  return model\n",
        "\n",
        "# early stopping\n",
        "es = EarlyStopping(monitor=\"val_loss\",\n",
        "                   patience=20, # how long to wait for loss to decrease\n",
        "                   verbose=0,\n",
        "                   mode=\"min\",\n",
        "                   restore_best_weights=False,\n",
        "                   )\n",
        "# model checkpoints\n",
        "mc = ModelCheckpoint('best_model.h5',\n",
        "                     monitor='val_accuracy',\n",
        "                     mode='max',\n",
        "                     verbose=0,  # set 1 to see when model is saved\n",
        "                     save_best_only=True\n",
        "                     )\n",
        "# define model\n",
        "model = get_model(input_dim=input_features, layers=[50,50], drop_rate=0.2)\n",
        "# fit model\n",
        "history = model.fit(X_train, y_train, \n",
        "                    validation_data=(X_test, y_test), \n",
        "                    epochs=150, \n",
        "                    verbose=0, \n",
        "                    callbacks=[es, mc, TqdmCallback(verbose=1)],\n",
        "                    )\n",
        "# load the saved model\n",
        "saved_model = load_model('best_model.h5')\n",
        "# evaluate the model\n",
        "_, train_acc = saved_model.evaluate(X_train, y_train, verbose=0)\n",
        "_, test_acc = saved_model.evaluate(X_test, y_test, verbose=0)\n",
        "print('\\nTrain: %.3f, Test: %.3f' % (train_acc, test_acc))\n",
        "\n"
      ],
      "metadata": {
        "colab": {
          "base_uri": "https://localhost:8080/",
          "height": 66,
          "referenced_widgets": [
            "ad7158b7aaa44ca394bf95858ddfe76c",
            "99b6c03f8d7e410fbee596a385837d09",
            "5ef1cbc0f8824610ab7b3dc25d2327c3",
            "015341b3b0cc4904b2fc23046cb96fd0",
            "c343cffb5082407eb04f6340994e92df",
            "f4bcdddeec1146b3b63d90b0ddcca905",
            "3ddb2d96f5c440a6a484071d930b03ee",
            "83c955741f9a45e8bdb96195c79a8018",
            "47ee5e18d55a456a9e609f30be4429e7",
            "5f12f29f09e748a7b0fae6c2bb7ece72",
            "177088ee999a4d7786490cea78563858",
            "b2b0b4681b854c45a6a4a2ccf48d7e4d",
            "22deb0570644478385f0aecbedd4db42",
            "df70717fdccc4bbbbe222bad34372742",
            "f8c43d2197424f8785e265834c11be6f",
            "cfab8a1f07be401d85b65c5e542ff42c",
            "b83aa9deb1304dd8928343ed22a6cad6",
            "4c6889c4135b4c9fafb2f355631c02f0",
            "b8a434f9786e41afa636fd3cbae89188",
            "cdd650ebc81c431f961bb91b85f0ca62",
            "be2ffa50a9ea46f8b643787bc60b247c",
            "d0b8eb743f9e4753a4ea5ffc1c647767"
          ]
        },
        "id": "GCfXcyBGCHJ_",
        "outputId": "073d14a7-46bd-4fd1-9c26-b71a2683d374"
      },
      "execution_count": 134,
      "outputs": [
        {
          "output_type": "display_data",
          "data": {
            "text/plain": [
              "0epoch [00:00, ?epoch/s]"
            ],
            "application/vnd.jupyter.widget-view+json": {
              "version_major": 2,
              "version_minor": 0,
              "model_id": "ad7158b7aaa44ca394bf95858ddfe76c"
            }
          },
          "metadata": {}
        },
        {
          "output_type": "display_data",
          "data": {
            "text/plain": [
              "0batch [00:00, ?batch/s]"
            ],
            "application/vnd.jupyter.widget-view+json": {
              "version_major": 2,
              "version_minor": 0,
              "model_id": "b2b0b4681b854c45a6a4a2ccf48d7e4d"
            }
          },
          "metadata": {}
        },
        {
          "output_type": "stream",
          "name": "stdout",
          "text": [
            "Train: 0.996, Test: 0.990\n"
          ]
        }
      ]
    },
    {
      "cell_type": "markdown",
      "source": [
        "We can see that the early stopping strategy worked and stoped training. The best model for run epoches, and thus our final model, has the highest accuracy of all neutwork we experimented with before. \n",
        "\n",
        "Let's plot confusion matrix of the predictions made by the final MLP."
      ],
      "metadata": {
        "id": "e9ySfEqPzdQP"
      }
    },
    {
      "cell_type": "code",
      "source": [
        "#collapse-hide\n",
        "from sklearn.metrics import confusion_matrix, ConfusionMatrixDisplay\n",
        "\n",
        "y_pred = saved_model.predict(X_test)\n",
        "y_test_class = np.argmax(y_test, axis=1)\n",
        "y_pred_class = np.argmax(y_pred, axis=1)\n",
        "\n",
        "fig, ax = plt.subplots(figsize=(6, 6))\n",
        "\n",
        "ConfusionMatrixDisplay.from_predictions(y_test_class, y_pred_class, cmap='YlGnBu_r', colorbar = False, ax = ax)\n",
        "ax.set_title('Estimator Confusion Matrix', fontsize=20, pad=20)\n",
        "ax.set_xlabel('Predicited', fontsize = 14, labelpad=10)\n",
        "ax.set_ylabel('True', fontsize = 16, labelpad=10);"
      ],
      "metadata": {
        "colab": {
          "base_uri": "https://localhost:8080/",
          "height": 433
        },
        "id": "9khyhiGNCHUb",
        "outputId": "4136ba02-999f-41bd-a65d-3bb32ecb35eb"
      },
      "execution_count": 148,
      "outputs": [
        {
          "output_type": "display_data",
          "data": {
            "text/plain": [
              "<Figure size 432x432 with 1 Axes>"
            ],
            "image/png": "[encoded data removed]"
          },
          "metadata": {
            "needs_background": "light"
          }
        }
      ]
    },
    {
      "cell_type": "markdown",
      "source": [
        "Our neural network has not only high accuracy, but also precision of predictions is very high, as show in the confusion matrix above."
      ],
      "metadata": {
        "id": "URCdv6bpk5HZ"
      }
    },
    {
      "cell_type": "markdown",
      "source": [
        "# Final thoughts\n",
        "\n",
        "The goal was to create the MLP classifier. To complete the task we used Keras. We created the model that does very well in training data and thanks to regularization techniques it generalizes and predicts with hich precision and accuracy on unseen data. "
      ],
      "metadata": {
        "id": "uMcQ_yVTlw9F"
      }
    }
  ]
}